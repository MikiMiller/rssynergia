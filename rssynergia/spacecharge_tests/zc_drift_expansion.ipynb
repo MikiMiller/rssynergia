{
 "cells": [
  {
   "cell_type": "markdown",
   "metadata": {},
   "source": [
    "# Expanding beam in a drift - zero current\n",
    "\n",
    "The following notebook documents the free expansion of a beam in a drift, simulated with Synergia. A KV distribution is generated and traverses a 4m drift. The RMS beam properties are calculated and compare with theory."
   ]
  },
  {
   "cell_type": "markdown",
   "metadata": {},
   "source": [
    "### Import system libraries"
   ]
  },
  {
   "cell_type": "code",
   "execution_count": null,
   "metadata": {
    "collapsed": false
   },
   "outputs": [],
   "source": [
    "%matplotlib inline\n",
    "%load_ext autoreload\n",
    "%autoreload 2\n",
    "\n",
    "import sys, os\n",
    "import numpy as np\n",
    "import matplotlib.pyplot as plt\n",
    "import matplotlib as mpl\n",
    "import scipy\n",
    "import tables\n",
    "from mpi4py import MPI"
   ]
  },
  {
   "cell_type": "markdown",
   "metadata": {},
   "source": [
    "### Import physics libraries"
   ]
  },
  {
   "cell_type": "code",
   "execution_count": null,
   "metadata": {
    "collapsed": false
   },
   "outputs": [],
   "source": [
    "try:\n",
    "    import rssynergia\n",
    "except ImportError:\n",
    "    !pip -q install git+git://github.com/radiasoft/rssynergia\n",
    "\n",
    "from rssynergia.base_diagnostics import read_bunch\n",
    "from rssynergia.base_diagnostics import workflow\n",
    "from rssynergia.base_diagnostics import lfplot\n",
    "from rssynergia.base_diagnostics import latticework\n",
    "from rssynergia.base_diagnostics import basic_calcs\n",
    "from rssynergia.base_diagnostics import pltbunch\n",
    "from rssynergia.base_diagnostics import elliptic_sp\n",
    "from rssynergia.base_diagnostics import singleparticle\n",
    "from rssynergia.base_diagnostics import options\n",
    "from rssynergia.base_diagnostics import diagplot\n",
    "\n",
    "from rssynergia.elliptic import elliptic_beam6d\n",
    "from rssynergia.standard import standard_beam6d\n",
    "\n",
    "import synergia\n",
    "import synergia_workflow"
   ]
  },
  {
   "cell_type": "markdown",
   "metadata": {},
   "source": [
    "### Create workdir and specify Synergia simulation options (default values)"
   ]
  },
  {
   "cell_type": "code",
   "execution_count": null,
   "metadata": {
    "collapsed": false
   },
   "outputs": [],
   "source": [
    "# Create and populate a Synergia options object\n",
    "# File I/O\n",
    "opts = synergia_workflow.Options(\"zc_drift\")\n",
    "opts.add(\"output_dir\",\"zc_drift\", \"Directory for output files\", str)\n",
    "opts.relpath = opts.output_dir\n",
    "workflow.make_path(opts.output_dir)\n",
    "opts.add(\"verbosity\", 1, \"Verbosity of propagation\", int)\n",
    "opts.add(\"bunch_file\",\"myBunch.txt\",\"txt file for bunch particles\", str)\n",
    "\n",
    "# Define reference particle to be a proton at 2.5 MeV\n",
    "total_energy = synergia.foundation.pconstants.proton_mass + 2.5e-3  # [GeV]\n",
    "four_momentum = synergia.foundation.Four_momentum(synergia.foundation.pconstants.proton_mass, total_energy)\n",
    "reference_particle = synergia.foundation.Reference_particle(synergia.foundation.pconstants.proton_charge,four_momentum)\n",
    "opts.gamma = reference_particle.get_gamma()\n",
    "opts.beta = reference_particle.get_beta()\n",
    "\n",
    "# beam (physical)\n",
    "opts.add(\"emit\",9.74e-6, \"H0 value corresponding to real sigma horizontal emittance of 0.3 mm-mrad\", float)\n",
    "opts.add(\"stdz\", 0.05, \"sigma read z [m]\", float) #5 cm bunch length for IOTA\n",
    "opts.add(\"dpop\", 0.0, \"Delta-p/p spread\", float)\n",
    "opts.add(\"real_particles\", 1.0e11, \"Number of real particles\", float)\n",
    "opts.emit_n = 0.3*1.e-6    # 0.3 mm-mrad normalized emittance\n",
    "opts.emits = [basic_calcs.calc_geometric_emittance(opts.emit_n,opts.beta,opts.gamma)]\n",
    "dpop = 0.0\n",
    "\n",
    "# beam (numerical)\n",
    "opts.add(\"macro_particles\", 50000, \"Number of macro particles\", int)\n",
    "opts.add(\"tracked_particles\", 10000, \"Number of tracked particles\", int)\n",
    "opts.add(\"seed\", 349250524, \"Pseudorandom number generator seed\", int)\n",
    "n_ppc = 100   # particles per cell (approximate)\n",
    "\n",
    "# Space Charge\n",
    "opts.add(\"gridx\", 32, \"grid points in x for solver\", int)\n",
    "opts.add(\"gridy\", 32, \"grid points in y for solver\", int)\n",
    "opts.add(\"gridz\", 32, \"grid points in z for solver\", int)\n",
    "opts.add(\"spacecharge\", True, \"whether space charge is on\", bool)\n",
    "opts.add(\"solver\", \"2dopen-hockney\", \"solver to use, '2dopen-hockney','3dopen-hockney', '2dbassetti-erskine'\", str)\n",
    "\n",
    "# Lattice\n",
    "opts.add(\"steps_per_element\",5,\"Number of steps per element\", int)\n",
    "opts.add(\"turns\",100,\"Number of turns\", int)\n",
    "opts.add(\"radius\", 0.5, \"aperture radius [m]\", float)\n",
    "opts.add(\"stepper\", \"splitoperator\", \"Simulation stepper, either 'independent','elements','splitoperator','soelements'\", str)\n",
    "\n",
    "# MPI\n",
    "opts.add(\"comm_divide\", 8, \"size of communicator\")\n",
    "opts.add(\"concurrent_io\", 8, \"number of concurrent io threads for checkpointing\", int)\n",
    "myrank = comm.get_rank()\n",
    "mpisize = comm.get_size()"
   ]
  },
  {
   "cell_type": "markdown",
   "metadata": {},
   "source": [
    "### Construct the lattice"
   ]
  },
  {
   "cell_type": "code",
   "execution_count": null,
   "metadata": {
    "collapsed": false
   },
   "outputs": [],
   "source": [
    "# specify the drift\n",
    "my_drift_length = 0.02  # [m]\n",
    "opts.steps_per_element = 2\n",
    "drift_element = synergia.lattice.Lattice_element(\"drift\", \"o\")\n",
    "drift_element.set_double_attribute(\"l\", my_drift_length)\n",
    "\n",
    "# instantiate the lattice\n",
    "lattice = synergia.lattice.Lattice(\"test\", synergia.lattice.Mad8_adaptor_map())\n",
    "lattice.append(drift_element)\n",
    "lattice.set_reference_particle(reference_particle)\n",
    "opts.lattice = lattice\n",
    "\n",
    "# use a dummy operator\n",
    "coll_operator = synergia.simulation.Dummy_collective_operator(\"dummy\")\n",
    "\n",
    "# instantiate the lattice stepper and simulator\n",
    "map_order = 1\n",
    "stepper = synergia.simulation.Split_operator_stepper_elements(lattice, map_order,coll_operator, opts.steps_per_element)\n",
    "opts.lattice_simulator = stepper.get_lattice_simulator()"
   ]
  },
  {
   "cell_type": "markdown",
   "metadata": {},
   "source": [
    "### Construct the bunch"
   ]
  },
  {
   "cell_type": "code",
   "execution_count": null,
   "metadata": {
    "collapsed": false
   },
   "outputs": [],
   "source": [
    "current = 14.e-3        # [A]\n",
    "rp_perlength = current/(opts.beta*scipy.constants.c*scipy.constants.e)\n",
    "bunch_length = 2*1.e-3  # effective bunch length [m]\n",
    "opts.real_particles = rp_perlength*bunch_length\n",
    "opts.betae = 1.0\n",
    "opts.alphae = 0.0\n",
    "\n",
    "particles = standard_beam6d.toyKVbeam6D(opts)\n",
    "bunch = particles[0]\n",
    "bunch[:,4] = bunch_length*(np.random.random(len(bunch)) -0.5) #center at 0\n",
    "bunch[:,5] = opts.dpop*np.random.randn(1,len(bunch)) #set dp/p\n",
    "\n",
    "# fix the weirdness with particle ID 4\n",
    "bunch[4] = bunch[100]\n",
    "bunch[4,6] = 4.0\n",
    "\n",
    "particles_file = 'myKVBunch.txt'\n",
    "np.savetxt('myKVBunch.txt',bunch)         # write the bunch to a text file\n",
    "\n",
    "bucket_length = 1. #\n",
    "comm = synergia.utils.Commxx(True) # define a communicator\n",
    "myBunch = read_bunch.read_bunch(particles_file, reference_particle, opts.real_particles, bucket_length, comm)\n",
    "\n",
    "# plot the initial distribution\n",
    "pltbunch.plot_bunch(myBunch)\n",
    "\n",
    "# save the initial distribution and calculate bunch properties\n",
    "origBunch = myBunch\n",
    "basic_calcs.calc_properties(origBunch,reference_particle)\n",
    "gemitx = basic_calcs.get_emittance('x',origBunch)"
   ]
  },
  {
   "cell_type": "markdown",
   "metadata": {},
   "source": [
    "### Run the simulation"
   ]
  },
  {
   "cell_type": "code",
   "execution_count": null,
   "metadata": {
    "collapsed": true
   },
   "outputs": [],
   "source": [
    "# instantiate a bunch simulator\n",
    "bunch_simulator = synergia.simulation.Bunch_simulator(myBunch)\n",
    "\n",
    "#basic diagnostics - PER STEP\n",
    "basicdiag = synergia.bunch.Diagnostics_basic(\"basic.h5\", opts.output_dir)\n",
    "bunch_simulator.add_per_step(basicdiag)\n",
    "\n",
    "#include full diagnostics\n",
    "fulldiag = synergia.bunch.Diagnostics_full2(\"full.h5\", opts.output_dir)\n",
    "bunch_simulator.add_per_turn(fulldiag)\n",
    "\n",
    "#particle diagnostics - PER TURN\n",
    "opts.turnsPerDiag = 1\n",
    "particlediag = synergia.bunch.Diagnostics_particles(\"particles.h5\",0,0,opts.output_dir)\n",
    "bunch_simulator.add_per_turn(particlediag, opts.turnsPerDiag)\n",
    "\n",
    "# here the number of turns means the number of drifts\n",
    "opts.turns = 200\n",
    "opts.checkpointperiod = 50\n",
    "opts.maxturns = opts.turns+1\n",
    "\n",
    "# instantiate the propagator\n",
    "propagator = synergia.simulation.Propagator(stepper)\n",
    "propagator.set_checkpoint_period(opts.checkpointperiod)\n",
    "propagator.propagate(bunch_simulator,opts.turns, opts.maxturns,opts.verbosity)\n",
    "\n",
    "# clean up the output directory\n",
    "workflow.cleanup(opts.output_dir)"
   ]
  },
  {
   "cell_type": "markdown",
   "metadata": {},
   "source": [
    "## Diagnostics"
   ]
  },
  {
   "cell_type": "markdown",
   "metadata": {},
   "source": [
    "#### Quick check of z trace space"
   ]
  },
  {
   "cell_type": "code",
   "execution_count": null,
   "metadata": {
    "collapsed": false
   },
   "outputs": [],
   "source": [
    "##Initial emittance\n",
    "opts.relpath = opts.output_dir\n",
    "files = elliptic_sp.get_file_list(opts)\n",
    "twiss = elliptic_sp.get_toy_twiss(opts)\n",
    "lost = elliptic_sp.get_lost_particle_list(opts)\n",
    "\n",
    "if len(lost) > 0:\n",
    "    #we have lost particles\n",
    "    opts.lost = lost #store these in opts.lost\n",
    "    lost = True #make lost a simple flag\n",
    "\n",
    "#after turn1\n",
    "outfile = files[1]\n",
    "if lost:\n",
    "    header, particles, lost_particles = elliptic_sp.get_particles(outfile, lost,opts.lost)\n",
    "else:\n",
    "    header, particles = elliptic_sp.get_particles(outfile, lost)\n",
    "\n",
    "comm = synergia.utils.Commxx(True)\n",
    "bucket_length = 10.\n",
    "turn1Bunch = synergia.bunch.Bunch(\n",
    "        reference_particle,\n",
    "        particles.shape[0], opts.real_particles, comm,\n",
    "        bucket_length)\n",
    "\n",
    "local_num = turn1Bunch.get_local_num()\n",
    "local_particles = turn1Bunch.get_local_particles()\n",
    "local_particles[:,:]= particles[:,:]\n",
    "\n",
    "#last bunch\n",
    "outfile = files[-1]\n",
    "if lost:\n",
    "    header, particles, lost_particles = elliptic_sp.get_particles(outfile, lost,opts.lost)\n",
    "else:\n",
    "    header, particles = elliptic_sp.get_particles(outfile, lost)\n",
    "\n",
    "comm = synergia.utils.Commxx(True)\n",
    "bucket_length = 10.\n",
    "endBunch = synergia.bunch.Bunch(\n",
    "        reference_particle,\n",
    "        particles.shape[0], opts.real_particles, comm,\n",
    "        bucket_length)\n",
    "\n",
    "local_num = endBunch.get_local_num()\n",
    "local_particles = endBunch.get_local_particles()\n",
    "local_particles[:,:]= particles[:,:]"
   ]
  },
  {
   "cell_type": "code",
   "execution_count": null,
   "metadata": {
    "collapsed": false,
    "scrolled": true
   },
   "outputs": [],
   "source": [
    "pltbunch.plot_bunch(endBunch)\n",
    "pltbunch.plot_long(endBunch)"
   ]
  },
  {
   "cell_type": "code",
   "execution_count": null,
   "metadata": {
    "collapsed": false
   },
   "outputs": [],
   "source": [
    "opts.inputfile = opts.output_dir + '/basic.h5'\n",
    "opts.plots = ['x_std', 'y_std', 'x_mean','y_mean']\n",
    "plotVals = diagplot.getPlotVals(opts.inputfile, opts.plots)\n",
    "\n",
    "#define specific value arrays\n",
    "xmaster = plotVals['s']\n",
    "xstd = plotVals['x_std']\n",
    "ystd = plotVals['y_std']"
   ]
  },
  {
   "cell_type": "markdown",
   "metadata": {},
   "source": [
    "#### First plot the envelope via the basic.h5 statistics"
   ]
  },
  {
   "cell_type": "code",
   "execution_count": null,
   "metadata": {
    "collapsed": false
   },
   "outputs": [],
   "source": [
    "fig = plt.figure(figsize=(8,6))\n",
    "ax = plt.gca()\n",
    "ax.plot(xmaster,xstd*1.e3,'b-', alpha=0.7, label='xstd') #plot x\n",
    "ax.plot(xmaster,ystd*1.e3,'g-', alpha=0.7, label='ystd') #plot y\n",
    "#ax.plot(sval_0,xstd_100*1.e3,'g-',alpha=0.7, label='Turn 100') #plot the 1st turn\n",
    "axtitle = \"RMS envelope evolution over 4 m - Zero Current\"\n",
    "ax.set_title(axtitle, y = 1.02, fontsize = 18)  \n",
    "ax.set_xlabel(\"s [m]\",fontsize=14)\n",
    "ax.set_ylabel(\"rms beam size $\\sigma_x$ [mm]\",fontsize=14)\n",
    "ax.tick_params(axis='x', labelsize=14)\n",
    "ax.tick_params(axis='y', labelsize=14)\n",
    "ax.set_xlim([0,4.0])\n",
    "ax.legend(loc=2)\n",
    "sv_title = 'ZC_test_envelope.pdf'\n",
    "fig.tight_layout()\n",
    "#fig.savefig(sv_title,bbox_inches='tight')"
   ]
  },
  {
   "cell_type": "markdown",
   "metadata": {},
   "source": [
    "#### Now plot using particle data"
   ]
  },
  {
   "cell_type": "code",
   "execution_count": null,
   "metadata": {
    "collapsed": true
   },
   "outputs": [],
   "source": [
    "opts.relpath = opts.output_dir\n",
    "files = elliptic_sp.get_file_list(opts)\n",
    "twiss = elliptic_sp.get_toy_twiss(opts)\n",
    "lost = elliptic_sp.get_lost_particle_list(opts)\n",
    "\n",
    "if len(lost) > 0:\n",
    "    #we have lost particles\n",
    "    opts.lost = lost #store these in opts.lost\n",
    "    lost = True #make lost a simple flag\n",
    "\n",
    "\n",
    "xrms_vals = []\n",
    "    \n",
    "for outfile in files:\n",
    "\n",
    "    if lost:\n",
    "        header, particles, lost_particles = elliptic_sp.get_particles(outfile, lost,opts.lost)\n",
    "    else:\n",
    "        header, particles = elliptic_sp.get_particles(outfile, lost)\n",
    "    \n",
    "    xrms = np.std(particles[:,0])\n",
    "    \n",
    "    xrms_vals.append(xrms)\n",
    "\n",
    "zvals = (4/200)*np.asarray(list(range(201))) #construct s value parameters\n",
    "xrms_vals = np.asarray(xrms_vals)"
   ]
  },
  {
   "cell_type": "code",
   "execution_count": null,
   "metadata": {
    "collapsed": false
   },
   "outputs": [],
   "source": [
    "#Compare the two\n",
    "fig = plt.figure(figsize=(8,6))\n",
    "ax = plt.gca()\n",
    "ax.plot(xmaster,xstd*1.e3,'g-',alpha=0.5, label = 'simulation') #plot x\n",
    "#ax.plot([p[0] for p in points], [p[1]*1.e3 for p in points], label = 'theory-14 mA')\n",
    "ax.plot(zvals,xrms_vals*1.e3, 'b',alpha=0.5, label = 'np_std from particles.h5')\n",
    "#ax.plot([p[0] for p in points2], [p[1]*1.e3 for p in points2],'k', label = 'theory - zero mA')\n",
    "axtitle = \"RMS envelope over 4m - zero current\"\n",
    "ax.set_title(axtitle, y = 1.02, fontsize = 18)  \n",
    "ax.set_xlabel(\"s [m]\",fontsize=14)\n",
    "ax.set_ylabel(\"rms beam size $\\sigma_x$ [mm]\",fontsize=14)\n",
    "ax.tick_params(axis='x', labelsize=14)\n",
    "ax.tick_params(axis='y', labelsize=14)\n",
    "ax.set_xlim([0,4.0])\n",
    "ax.legend(loc = 2)\n",
    "sv_title = 'ZC_test_envelope_compare.pdf'\n",
    "fig.tight_layout()\n",
    "#fig.savefig(sv_title,bbox_inches='tight')"
   ]
  },
  {
   "cell_type": "markdown",
   "metadata": {},
   "source": [
    "They are in agreement! This is good."
   ]
  },
  {
   "cell_type": "markdown",
   "metadata": {},
   "source": [
    "#### Quick calculation of zero current expansion"
   ]
  },
  {
   "cell_type": "code",
   "execution_count": null,
   "metadata": {
    "collapsed": true
   },
   "outputs": [],
   "source": [
    "def calc_perveance(I,ref,cn=0):\n",
    "    '''Calculate the perveance for a proton beam of a given current and particle energy.\n",
    "    \n",
    "    Arguments\n",
    "        - I - current in A\n",
    "        - ref - the reference particle for extracting beta and gamma\n",
    "        \n",
    "        - (optional) charge neutralization factor - default 0\n",
    "    '''\n",
    "    \n",
    "    I0 = 3.13e7 #characteristic current\n",
    "    \n",
    "    beta = ref.get_beta()\n",
    "    gamma = ref.get_gamma()\n",
    "    \n",
    "    return (I/I0)*(2/beta**3)*(1/gamma**3)\n",
    "\n",
    "def calc_characteristic_current():\n",
    "    '''Return characteristics current for proton beam'''\n",
    "    return 4*np.pi*scipy.constants.epsilon_0*scipy.constants.m_p*(scipy.constants.c**3)/scipy.constants.e"
   ]
  },
  {
   "cell_type": "code",
   "execution_count": null,
   "metadata": {
    "collapsed": false
   },
   "outputs": [],
   "source": [
    "#Introduce numerical integrators\n",
    "import math\n",
    "from __future__ import division\n",
    "\n",
    "#we are incrementing (stepping through z) I suppose\n",
    "N = 400 #number of steps (e.g. 1 cm steps)\n",
    "z0 = 0.0 #start\n",
    "zf = 4.0 #end\n",
    "ss = (zf-z0)/N #step size\n",
    "\n",
    "zpoints = np.linspace(0.0, 4.0, num=N) #define z values\n",
    "rpoints = [] #empty array for r values\n",
    "\n",
    "\n",
    "#initial conditions\n",
    "#current= 0.0005 \n",
    "#current = 0.014/(400.)\n",
    "current = 0\n",
    "Kp = calc_perveance(current, reference_particle)\n",
    "rprime0 = (xstd[1]-xstd[0])/(xmaster[1]-xmaster[0]) #need to seed with a nonzero initial rprime\n",
    "r0 = xstd[0] #initial envelope value\n",
    "#emit = hA[0,1] #emittance in m-rad -> geometric not normalized\n",
    "emit = gemitx  #rms geometric emittance\n",
    "\n",
    "#function here, which is a function of r and z\n",
    "def rprime(K,emit,r0,rp0,rm):\n",
    "    '''Returns the slope of the beam envelope (dr/dz) \n",
    "    for a given value of emittance,rm, K, and initial conditions'''\n",
    "    \n",
    "    first = rp0**2 #first term\n",
    "    second = (emit**2)*((1./r0**2)-(1./rm**2)) #second term\n",
    "    third = 2*K* np.log(rm/r0)\n",
    "    \n",
    "    return np.sqrt(first + second + third)\n",
    "\n",
    "\n",
    "#x is r\n",
    "#z is t (what we step up)\n",
    "#f is our function describing the relationship between r and z\n",
    "f = lambda r: rprime(Kp,emit,r0,rprime0,r)\n",
    "\n",
    "#2nd Order RK - Ralston Method\n",
    "def Ralston(r,z,h,f):\n",
    "    k1 = h*f(r)\n",
    "    return 0.25*k1 + 0.75*h*f(r+(2/3)*k1)\n",
    "\n",
    "#4th Order Runge-Kutta\n",
    "def RungeKutta4(r,z,h,f):\n",
    "    k1 = f(r)\n",
    "    k2 = f(r + (h/2)*k1)\n",
    "    k3 = f(r + (h/2)*k2)\n",
    "    k4 = f(r + h*k3)\n",
    "    return h/6*(k1 + 2*k2 +2*k3 + k4)\n",
    " "
   ]
  },
  {
   "cell_type": "code",
   "execution_count": null,
   "metadata": {
    "collapsed": false
   },
   "outputs": [],
   "source": [
    "r,z,dz = r0,0,ss\n",
    "points = []\n",
    "while z < zf:\n",
    "    points.append((z,r))\n",
    "    z, r = z+dz, r + Ralston(r,z,dz,f) #incremement\n",
    "    \n",
    "r,z,dz = r0,0,ss\n",
    "pointsRK4 = []\n",
    "while z < zf:\n",
    "    pointsRK4.append((z,r))\n",
    "    z, r = z+dz, r + RungeKutta4(r,z,dz,f) #incremement\n",
    "\n",
    "\n",
    "#Compare the integrators\n",
    "fig = plt.figure(figsize=(8,6))\n",
    "ax = plt.gca()\n",
    "ax.plot([p[0] for p in pointsRK4], [p[1]*1.e3 for p in pointsRK4],'r--',alpha=1, label = 'RK4') #plot x\n",
    "#ax.plot([p[0] for p in points], [p[1]*1.e3 for p in points], label = 'theory-14 mA')\n",
    "#ax.plot(zvals,xrms_vals*1.e3, 'b',alpha=0.5, label = 'np_std from particles.h5')\n",
    "ax.plot([p[0] for p in points], [p[1]*1.e3 for p in points],'b-',alpha=0.5, label = 'Ralston')\n",
    "axtitle = \"RMS envelope over 4m with zero current - integrator comparison\"\n",
    "ax.set_title(axtitle, y = 1.02, fontsize = 18)  \n",
    "ax.set_xlabel(\"s [m]\",fontsize=14)\n",
    "ax.set_ylabel(\"rms beam size $\\sigma_x$ [mm]\",fontsize=14)\n",
    "ax.tick_params(axis='x', labelsize=14)\n",
    "ax.tick_params(axis='y', labelsize=14)\n",
    "ax.set_xlim([0,4.0])\n",
    "ax.legend(loc = 2)\n",
    "sv_title = 'ZC_envelope_integrator_compare.pdf'\n",
    "fig.tight_layout()\n",
    "#fig.savefig(sv_title,bbox_inches='tight')"
   ]
  },
  {
   "cell_type": "markdown",
   "metadata": {},
   "source": [
    "## Compare Theoretical Expansion to Simulated Expansion"
   ]
  },
  {
   "cell_type": "code",
   "execution_count": null,
   "metadata": {
    "collapsed": false
   },
   "outputs": [],
   "source": [
    "#Compare the two\n",
    "fig = plt.figure(figsize=(8,6))\n",
    "ax = plt.gca()\n",
    "ax.plot(xmaster,xstd*1.e3,'r--',alpha=1, label = 'simulation') #plot x\n",
    "#ax.plot([p[0] for p in points], [p[1]*1.e3 for p in points], label = 'theory-14 mA')\n",
    "#ax.plot(zvals,xrms_vals*1.e3, 'b',alpha=0.5, label = 'np_std from particles.h5')\n",
    "ax.plot([p[0] for p in points], [p[1]*1.e3 for p in points],'b-',alpha=0.5, label = 'theory')\n",
    "axtitle = \"RMS envelope over 4m - zero current\"\n",
    "ax.set_title(axtitle, y = 1.02, fontsize = 18)  \n",
    "ax.set_xlabel(\"s [m]\",fontsize=14)\n",
    "ax.set_ylabel(\"rms beam size $\\sigma_x$ [mm]\",fontsize=14)\n",
    "ax.tick_params(axis='x', labelsize=14)\n",
    "ax.tick_params(axis='y', labelsize=14)\n",
    "ax.set_xlim([0,4.0])\n",
    "ax.legend(loc = 2)\n",
    "sv_title = 'ZC_test_envelope_compare.pdf'\n",
    "fig.tight_layout()\n",
    "#fig.savefig(sv_title,bbox_inches='tight')"
   ]
  },
  {
   "cell_type": "markdown",
   "metadata": {},
   "source": [
    "We see excellent agreement between the predicted and simulated expansion in the zero current limit."
   ]
  }
 ],
 "metadata": {
  "kernelspec": {
   "display_name": "Python 2",
   "language": "python",
   "name": "python2"
  },
  "language_info": {
   "codemirror_mode": {
    "name": "ipython",
    "version": 2
   },
   "file_extension": ".py",
   "mimetype": "text/x-python",
   "name": "python",
   "nbconvert_exporter": "python",
   "pygments_lexer": "ipython2",
   "version": "2.7.10"
  }
 },
 "nbformat": 4,
 "nbformat_minor": 0
}
