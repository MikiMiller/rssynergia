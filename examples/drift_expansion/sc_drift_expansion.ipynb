{
 "cells": [
  {
   "cell_type": "markdown",
   "metadata": {},
   "source": [
    "## Purpose:\n",
    "Check 2D space charge in Synergia vs envelope equations for free beam expansion.\n",
    "\n",
    "The Bassetti-Erskine 2D space charge model is used. This is a \"frozen\" space charge algorithm, which assumes the transverse particle distribution is Gaussian in position and momentum. Synergia also provides self-consistent PIC algorithms. Longitudinal space charge is ignored here. Synergia provides 3D algorithms for both PIC and Bassetti-Erskine.\n",
    "\n",
    "The initial transverse particle distribution is assumed to be Gaussian. The initial longitudinal particle distribution is assumed to be uniform in position (z), with zero energy spread. The initial particles are read from a local file.\n",
    "\n",
    "### Number of particles in the beam\n",
    "\n",
    "1. We work with the peak current, I.\n",
    "2. The beam consists of N protons, with total charge $Q = N e$.\n",
    "2. Assume beam has total length L, velocity $\\beta$c, and the particles are uniformly distributed in z.\n",
    "3. The current is then: $I = \\frac{Q \\beta c}{L}$, and the corresponding number is $N = \\frac{I L}{\\beta c e}$\n",
    "4. The number of particles per unit length is $\\frac{N}{L} = \\frac{I}{\\beta c e}$ \n",
    "\n",
    "This implies a proton number scaling of $2.85769 \\times 10^8 \\frac{p}{m \\cdot mA}$, which at (for example) 14 mA equates to $4.0 \\times 10^{9}$ protons per meter.\n",
    "\n",
    "### Initial import statements"
   ]
  },
  {
   "cell_type": "code",
   "execution_count": null,
   "metadata": {
    "collapsed": true
   },
   "outputs": [],
   "source": [
    "%matplotlib inline\n",
    "%load_ext autoreload\n",
    "%autoreload 2\n",
    "\n",
    "import sys, os\n",
    "import numpy as np\n",
    "import matplotlib.pyplot as plt\n",
    "import matplotlib as mpl\n",
    "import scipy\n",
    "import tables\n",
    "from mpi4py import MPI"
   ]
  },
  {
   "cell_type": "markdown",
   "metadata": {},
   "source": [
    "### Import physics libraries"
   ]
  },
  {
   "cell_type": "code",
   "execution_count": null,
   "metadata": {
    "collapsed": true
   },
   "outputs": [],
   "source": [
    "try:\n",
    "    import rssynergia\n",
    "except ImportError:\n",
    "    !pip -q install git+git://github.com/radiasoft/rssynergia\n",
    "\n",
    "from rssynergia.base_diagnostics import read_bunch\n",
    "from rssynergia.base_diagnostics import workflow\n",
    "from rssynergia.base_diagnostics import lfplot\n",
    "from rssynergia.base_diagnostics import latticework\n",
    "from rssynergia.base_diagnostics import basic_calcs\n",
    "from rssynergia.base_diagnostics import pltbunch\n",
    "from rssynergia.base_diagnostics import elliptic_sp\n",
    "from rssynergia.base_diagnostics import singleparticle\n",
    "from rssynergia.base_diagnostics import options\n",
    "from rssynergia.base_diagnostics import diagplot\n",
    "from rssynergia.base_diagnostics import utils\n",
    "\n",
    "from rssynergia.elliptic import elliptic_beam6d\n",
    "from rssynergia.standard import standard_beam6d\n",
    "\n",
    "import synergia\n",
    "import synergia_workflow"
   ]
  },
  {
   "cell_type": "markdown",
   "metadata": {},
   "source": [
    "### Test problem - Expanding beam in a drift\n",
    "\n",
    "Drift length:\n",
    "- 3 m\n",
    "\n",
    "Beam Parameters:\n",
    "- 14 mA, 2.5 MeV proton beam\n",
    "- Emittance: 0.3 mm-mrad normalized\n",
    "- 64x64x32 mesh (2D Open)\n",
    "- 25 turns at 0.1 m drift length"
   ]
  },
  {
   "cell_type": "markdown",
   "metadata": {},
   "source": [
    "### Create workdir and specify Synergia simulation options (default values)"
   ]
  },
  {
   "cell_type": "code",
   "execution_count": null,
   "metadata": {
    "collapsed": true
   },
   "outputs": [],
   "source": [
    "# Create and populate a Synergia options object\n",
    "# File I/O\n",
    "opts = synergia_workflow.Options(\"zc_drift\")\n",
    "opts.add(\"output_dir\",\"sc_drift\", \"Directory for output files\", str)\n",
    "opts.relpath = opts.output_dir\n",
    "workflow.make_path(opts.output_dir)\n",
    "opts.add(\"verbosity\", 1, \"Verbosity of propagation\", int)\n",
    "opts.add(\"bunch_file\",\"myBunch.txt\",\"txt file for bunch particles\", str)\n",
    "\n",
    "# Define reference particle to be a proton at 2.5 MeV\n",
    "total_energy = synergia.foundation.pconstants.proton_mass + 2.5e-3  # [GeV]\n",
    "four_momentum = synergia.foundation.Four_momentum(synergia.foundation.pconstants.proton_mass, total_energy)\n",
    "reference_particle = synergia.foundation.Reference_particle(synergia.foundation.pconstants.proton_charge,four_momentum)\n",
    "opts.gamma = reference_particle.get_gamma()\n",
    "opts.beta = reference_particle.get_beta()\n",
    "\n",
    "# beam (physical)\n",
    "opts.add(\"emit\",9.74e-6, \"H0 value corresponding to real sigma horizontal emittance of 0.3 mm-mrad\", float)\n",
    "opts.add(\"dpop\", 0.0, \"Delta-p/p spread\", float)\n",
    "opts.add(\"real_particles\", 1.0e11, \"Number of real particles\", float)\n",
    "opts.emit_n = 0.3*1.e-6    # 0.3 mm-mrad normalized emittance\n",
    "opts.emits = [basic_calcs.calc_geometric_emittance(opts.emit_n,opts.beta,opts.gamma)]\n",
    "dpop = 0.0\n",
    "\n",
    "# beam (numerical)\n",
    "opts.add(\"macro_particles\", 50000, \"Number of macro particles\", int)    \n",
    "opts.add(\"spacecharge\", True, \"whether space charge is on\", bool)\n",
    "opts.add(\"solver\", \"2dbassetti-erskine\", \"other solvers are available\", str)\n",
    "\n",
    "# Lattice\n",
    "opts.add(\"steps_per_element\",5,\"Number of steps per element\", int)\n",
    "opts.add(\"turns\",30,\"Number of turns\", int)\n",
    "opts.add(\"checkpointperiod\", 15, \"Interval for creating checkpoints\", int)\n",
    "opts.add(\"radius\", 0.5, \"aperture radius [m]\", float)\n",
    "opts.add(\"stepper\", \"splitoperator\", \"Simulation stepper, either 'independent','elements','splitoperator','soelements'\", str)"
   ]
  },
  {
   "cell_type": "markdown",
   "metadata": {},
   "source": [
    "### Construct the lattice (a simple drift)"
   ]
  },
  {
   "cell_type": "code",
   "execution_count": null,
   "metadata": {},
   "outputs": [],
   "source": [
    "# specify the drift element\n",
    "#    note:  above, it is specified that 5 steps are taken per element\n",
    "#           hence, the integration step size is my_drift_length / 5.\n",
    "#           above, the number of \"turns\" is specified as 30\n",
    "#           hence, the total drift length is 30.*my_drift_length\n",
    "#           hence, the total number of steps in Synergia is 30*5 = 150\n",
    "my_drift_length = 0.1  # [m]\n",
    "drift_element = synergia.lattice.Lattice_element(\"drift\", \"drift_element\")\n",
    "drift_element.set_double_attribute(\"l\", my_drift_length)\n",
    "\n",
    "# instantiate the lattice\n",
    "lattice = synergia.lattice.Lattice(\"test\", synergia.lattice.Mad8_adaptor_map())\n",
    "lattice.append(drift_element)\n",
    "lattice.set_reference_particle(reference_particle)\n",
    "opts.lattice = lattice\n",
    "\n",
    "# specify the operator\n",
    "coll_operator = synergia.collective.Space_charge_2d_bassetti_erskine()\n",
    "\n",
    "# instantiate the lattice stepper and simulator\n",
    "map_order = 1\n",
    "stepper = synergia.simulation.Split_operator_stepper_elements(lattice, map_order,coll_operator, opts.steps_per_element)\n",
    "opts.lattice_simulator = stepper.get_lattice_simulator()"
   ]
  },
  {
   "cell_type": "code",
   "execution_count": null,
   "metadata": {
    "collapsed": true
   },
   "outputs": [],
   "source": [
    "#Cleanup any files from previous runs\n",
    "try:\n",
    "    os.remove('myBunch.txt')\n",
    "except OSError:\n",
    "    pass\n",
    "\n",
    "files = os.listdir(opts.output_dir)\n",
    "for file in files:\n",
    "    if file.endswith('.h5'):\n",
    "        os.remove(os.path.join(opts.output_dir,file))\n",
    "\n",
    "files = os.listdir('.')\n",
    "for file in files:\n",
    "    if file.endswith('.h5'):\n",
    "        os.remove(os.path.join('.',file))\n"
   ]
  },
  {
   "cell_type": "markdown",
   "metadata": {},
   "source": [
    "## Construct the bunch"
   ]
  },
  {
   "cell_type": "code",
   "execution_count": null,
   "metadata": {
    "collapsed": true
   },
   "outputs": [],
   "source": [
    "# Bunch options\n",
    "current = 14.e-3 #mA of current \n",
    "rp_perlength = current/(opts.beta*scipy.constants.c*scipy.constants.e)\n",
    "bunch_length = 2e-2 #effective bunch length 2 mm\n",
    "real_particles = rp_perlength*bunch_length\n",
    "\n",
    "opts.emit_n = 6e-7 #We want 0.3 mm-mrad normalized emittance\n",
    "opts.emits = [basic_calcs.calc_geometric_emittance(opts.emit_n,opts.beta,opts.gamma)] #give this geometric emittance\n",
    "opts.real_particles = rp_perlength*bunch_length\n",
    "opts.betae = 0.5 #statically fix beta\n",
    "opts.alphae = 0.0\n",
    "\n",
    "# load pre-generated Gaussian bunch from file\n",
    "bunch = np.loadtxt(\"myGaussianBunch.txt\")\n",
    "    \n",
    "bunch[:,4] = bunch_length*(np.random.random(len(bunch)) -0.5) #center at 0\n",
    "bunch[:,5] = opts.dpop*np.random.randn(1,len(bunch)) #set dp/p\n",
    "\n",
    "np.savetxt('myBunch.txt',bunch)         #write the bunch to a text file"
   ]
  },
  {
   "cell_type": "code",
   "execution_count": null,
   "metadata": {},
   "outputs": [],
   "source": [
    "#Check emittance\n",
    "emit = np.sqrt(np.average(bunch[:,0]**2) * np.average(bunch[:,1]**2) - np.average(bunch[:,0]*bunch[:,1])**2)\n",
    "print \"geometric emittance: %s \\nnormalized emittance: %s\" % (emit, emit * (opts.beta * opts.gamma))"
   ]
  },
  {
   "cell_type": "code",
   "execution_count": null,
   "metadata": {},
   "outputs": [],
   "source": [
    "#read in the bunch\n",
    "particles_file = opts.bunch_file\n",
    "bucket_length = bunch_length #set equal\n",
    "comm = synergia.utils.Commxx(True) #define a communicator\n",
    "myBunch = read_bunch.read_bunch(particles_file, reference_particle, opts.real_particles, bucket_length, comm)\n",
    "\n",
    "# generated longitudinal coordinate is z position (beta*c*dt) but Synergia uses\n",
    "# c*dt.  Divide by beta to get c*dt.\n",
    "local_particles = myBunch.get_local_particles()\n",
    "local_particles[:,4] /= opts.beta"
   ]
  },
  {
   "cell_type": "code",
   "execution_count": null,
   "metadata": {},
   "outputs": [],
   "source": [
    "pltbunch.plot_bunch(myBunch)\n",
    "pltbunch.plot_long(myBunch)"
   ]
  },
  {
   "cell_type": "markdown",
   "metadata": {},
   "source": [
    "## Run the simulation"
   ]
  },
  {
   "cell_type": "code",
   "execution_count": null,
   "metadata": {
    "collapsed": true
   },
   "outputs": [],
   "source": [
    "bunch_simulator = synergia.simulation.Bunch_simulator(myBunch)\n",
    "\n",
    "#basic diagnostics - PER STEP\n",
    "basicdiag = synergia.bunch.Diagnostics_basic(\"basic.h5\", opts.output_dir)\n",
    "bunch_simulator.add_per_step(basicdiag)\n",
    "\n",
    "#include full diagnostics\n",
    "fulldiag = synergia.bunch.Diagnostics_full2(\"full.h5\", opts.output_dir)\n",
    "bunch_simulator.add_per_turn(fulldiag)\n",
    "\n",
    "#particle diagnostics - PER TURN\n",
    "opts.turnsPerDiag = 1\n",
    "particlediag = synergia.bunch.Diagnostics_particles(\"particles.h5\",0,0,opts.output_dir)\n",
    "bunch_simulator.add_per_turn(particlediag, opts.turnsPerDiag)"
   ]
  },
  {
   "cell_type": "code",
   "execution_count": null,
   "metadata": {
    "collapsed": true
   },
   "outputs": [],
   "source": [
    "opts.maxturns = opts.turns+1\n",
    "\n",
    "propagator = synergia.simulation.Propagator(stepper)\n",
    "propagator.set_checkpoint_period(opts.checkpointperiod)\n",
    "propagator.propagate(bunch_simulator,opts.turns, opts.maxturns,opts.verbosity)\n",
    "\n",
    "workflow.cleanup(opts.output_dir)"
   ]
  },
  {
   "cell_type": "markdown",
   "metadata": {},
   "source": [
    "## Diagnostics"
   ]
  },
  {
   "cell_type": "code",
   "execution_count": null,
   "metadata": {},
   "outputs": [],
   "source": [
    "opts.inputfile = opts.output_dir + '/basic.h5'\n",
    "opts.plots = ['x_std', 'y_std']\n",
    "plotVals = diagplot.getPlotVals(opts.inputfile, opts.plots)\n",
    "\n",
    "#define specific value arrays\n",
    "xmaster = plotVals['s']\n",
    "xstd = plotVals['x_std']\n",
    "ystd = plotVals['y_std']\n",
    "\n",
    "fig = plt.figure(figsize=(8,6))\n",
    "ax = plt.gca()\n",
    "ax.plot(xmaster,xstd*1.e3,'b-', alpha=0.7, label = 'x_std') #plot x\n",
    "ax.plot(xmaster,ystd*1.e3,'g-', alpha=0.7, label = 'y_std') #plot y\n",
    "axtitle = \"RMS envelope evolution over 50 m - 14.1 mA\"\n",
    "ax.set_title(axtitle, y = 1.02, fontsize = 18)  \n",
    "ax.set_xlabel(\"s [m]\",fontsize=14)\n",
    "ax.set_ylabel(\"rms beam size $\\sigma_x$ [mm]\",fontsize=14)\n",
    "ax.tick_params(axis='x', labelsize=14)\n",
    "ax.tick_params(axis='y', labelsize=14)\n",
    "ax.legend()\n",
    "sv_title = 'SC_test_envelope_10m_bunch.pdf'\n",
    "fig.tight_layout()"
   ]
  },
  {
   "cell_type": "code",
   "execution_count": null,
   "metadata": {},
   "outputs": [],
   "source": [
    "pltbunch.plot_bunch(myBunch)"
   ]
  },
  {
   "cell_type": "code",
   "execution_count": null,
   "metadata": {},
   "outputs": [],
   "source": [
    "pltbunch.plot_long(myBunch)"
   ]
  },
  {
   "cell_type": "code",
   "execution_count": null,
   "metadata": {},
   "outputs": [],
   "source": [
    "#Look at z distribution\n",
    "part = myBunch.get_local_particles()\n",
    "part[:,4]\n",
    "zvals = part[:,4]\n",
    "utils.plot_distribution(zvals, 100)"
   ]
  },
  {
   "cell_type": "markdown",
   "metadata": {},
   "source": [
    "## Analytical Comparison"
   ]
  },
  {
   "cell_type": "code",
   "execution_count": null,
   "metadata": {
    "collapsed": true
   },
   "outputs": [],
   "source": [
    "def calc_perveance(I,ref,cn=0):\n",
    "    '''Calculate the perveance for a proton beam of a given current and particle energy.\n",
    "    \n",
    "    Arguments\n",
    "        - I - current in A\n",
    "        - ref - the reference particle for extracting beta and gamma\n",
    "        \n",
    "        - (optional) charge neutralization factor - default 0\n",
    "    '''\n",
    "    \n",
    "    I0 = 3.13e7 #characteristic current\n",
    "    \n",
    "    beta = ref.get_beta()\n",
    "    gamma = ref.get_gamma()\n",
    "    \n",
    "    return (I/I0)*(2/beta**3)*(1/gamma**3)\n",
    "\n",
    "def calc_characteristic_current():\n",
    "    '''Return characteristics current for proton beam'''\n",
    "    return 4*np.pi*scipy.constants.epsilon_0*scipy.constants.m_p*(scipy.constants.c**3)/scipy.constants.e"
   ]
  },
  {
   "cell_type": "code",
   "execution_count": null,
   "metadata": {
    "collapsed": true
   },
   "outputs": [],
   "source": [
    "#Introduce numerical integrators\n",
    "\n",
    "#2nd Order RK - Ralston Method\n",
    "def Ralston(r,z,h,f):\n",
    "    k1 = h*f(r)\n",
    "    return 0.25*k1 + 0.75*h*f(r+(2/3)*k1)\n",
    "\n",
    "#4th Order Runge-Kutta\n",
    "def RungeKutta4(r,z,h,f):\n",
    "    k1 = f(r)\n",
    "    k2 = f(r + (h/2)*k1)\n",
    "    k3 = f(r + (h/2)*k2)\n",
    "    k4 = f(r + h*k3)\n",
    "    return h/6*(k1 + 2*k2 +2*k3 + k4)\n",
    "\n",
    "#function here, which is a function of r and z\n",
    "def rprime(K,emit,r0,rp0,rm):\n",
    "    '''\n",
    "    \n",
    "    Returns the slope of the beam envelope (dr/dz) for a given value of emittance,rm, K, and initial conditions.\n",
    "    \n",
    "    This equation follows from Reisier.\n",
    "    \n",
    "    Arguments:\n",
    "    \n",
    "        - r - beam radius (or RMS)\n",
    "        - K - perveance\n",
    "        - emit - geometric emittance\n",
    "        - r0 - initial envelope radius (or RMS)\n",
    "        - rp0 - initial slope of envelope (or RMS)\n",
    "        \n",
    "    '''\n",
    "    \n",
    "    first = rp0**2 #first term\n",
    "    second = (emit**2)*((1./r0**2)-(1./rm**2)) #second term\n",
    "    third = 2*K* np.log(rm/r0) / 4\n",
    "    \n",
    "    return np.sqrt(first + second + third)"
   ]
  },
  {
   "cell_type": "code",
   "execution_count": null,
   "metadata": {
    "collapsed": true
   },
   "outputs": [],
   "source": [
    "import math\n",
    "from __future__ import division\n",
    "\n",
    "def calculate_expansion(current, reference_paricle,r0,rp0,emit=emit,N=1000,zf=opts.turns * lattice.get_length()):\n",
    "\n",
    "    '''Evaluate the expansion of a KV beam envelope in a drift along z-axis, begining at z = 0.\n",
    "    \n",
    "    Arguments:\n",
    "        - current - beam current in A\n",
    "        - reference_particle - synergia object for bunch/lattice reference particle\n",
    "        - r0 - initial envelope value (provide RMS for RMS expansion, a for envelope expansion, etc.)\n",
    "        - rp0 - initial slope of envelope (must be non-zero, but calculation is not sensitive to small values)\n",
    "        \n",
    "        - (optional) emit - geometric emittance of beam - default 2.05721258396*1.e-6 (for 0.3 mm-mrad KV beam)\n",
    "        - (optional) N - number of steps for integration - default 1000\n",
    "        - (optional) zf - final z value (e.g. length of expansion) - default 50.0\n",
    "        \n",
    "    '''\n",
    "    \n",
    "    z0 = 0.0 #start\n",
    "    ss = (zf-z0)/N #step size\n",
    "\n",
    "    zpoints = np.linspace(0.0, zf, num=N) #define z values\n",
    "    rpoints = [] #empty array for r values\n",
    "    \n",
    "    #calculate perveance\n",
    "    Kp = calc_perveance(current, reference_particle)\n",
    "    \n",
    "    #x is r\n",
    "    #z is t (what we step up)\n",
    "    #f is our function describing the relationship between r and z\n",
    "    f = lambda r: rprime(Kp,emit,r0,rprime0,r)\n",
    "\n",
    "    r,z,dz = r0,z0,ss\n",
    "    points = []\n",
    "    while z < zf:\n",
    "        points.append((z,r))\n",
    "        z, r = z+dz, r + Ralston(r,z,dz,f) #incremement\n",
    "        \n",
    "    return points"
   ]
  },
  {
   "cell_type": "code",
   "execution_count": null,
   "metadata": {},
   "outputs": [],
   "source": [
    "#Calculate current - 14 mA \n",
    "\n",
    "current14 = 14*1.e-3\n",
    "rprime0 = 1.0*(xstd[1]-xstd[0])/(xmaster[1]-xmaster[0])\n",
    "r0 = xstd[0] #1.0*1.e-3 #initial envelope value\n",
    "#emit = 4.10849449506e-06 #not used (hard coded into calculate_expansion) #gemit_x  #rms geometric emittance\n",
    "points14 = calculate_expansion(current14, reference_particle, r0,rprime0)\n",
    "points0 = calculate_expansion(0.0, reference_particle, r0,rprime0)\n",
    "print emit"
   ]
  },
  {
   "cell_type": "code",
   "execution_count": null,
   "metadata": {},
   "outputs": [],
   "source": [
    "#Compare the results\n",
    "fig = plt.figure(figsize=(8,6))\n",
    "ax = plt.gca()\n",
    "ax.plot(xmaster,xstd*1.e3,'b-', alpha=0.7, label = 'simulation - 14mA') #plot x\n",
    "ax.plot([p[0] for p in points14], [p[1]*1.e3 for p in points14],'g--',alpha=0.7, label = 'theory - 14 mA')\n",
    "ax.plot([p[0] for p in points0], [p[1]*1.e3 for p in points0],'k--',alpha=0.7, label = 'theory - zero current')\n",
    "axtitle = \"RMS envelope over %s m - theory vs simulation\" % (opts.turns * lattice.get_length())\n",
    "ax.set_title(axtitle, y = 1.02, fontsize = 18)  \n",
    "ax.set_xlabel(\"s [m]\",fontsize=14)\n",
    "ax.set_ylabel(\"rms beam size $\\sigma_x$ [mm]\",fontsize=14)\n",
    "ax.tick_params(axis='x', labelsize=14)\n",
    "ax.tick_params(axis='y', labelsize=14)\n",
    "ax.legend(loc = 2)\n",
    "fig.tight_layout()"
   ]
  }
 ],
 "metadata": {
  "kernelspec": {
   "display_name": "Python 2",
   "language": "python",
   "name": "py2"
  },
  "language_info": {
   "codemirror_mode": {
    "name": "ipython",
    "version": 2
   },
   "file_extension": ".py",
   "mimetype": "text/x-python",
   "name": "python",
   "nbconvert_exporter": "python",
   "pygments_lexer": "ipython2",
   "version": "2.7.12"
  }
 },
 "nbformat": 4,
 "nbformat_minor": 1
}
